{
 "cells": [
  {
   "cell_type": "markdown",
   "id": "bade88f0",
   "metadata": {},
   "source": [
    "# LA MIA PRIMA ESERCITAZIONE"
   ]
  },
  {
   "cell_type": "markdown",
   "id": "766e5c59",
   "metadata": {},
   "source": [
    "## SOTTOTITOLO"
   ]
  },
  {
   "cell_type": "code",
   "execution_count": 1,
   "id": "59a814fd",
   "metadata": {},
   "outputs": [
    {
     "name": "stdout",
     "output_type": "stream",
     "text": [
      "hello.word\n"
     ]
    }
   ],
   "source": [
    "print (\"hello.word\")"
   ]
  },
  {
   "cell_type": "code",
   "execution_count": 2,
   "id": "9cd9e119",
   "metadata": {},
   "outputs": [
    {
     "name": "stdout",
     "output_type": "stream",
     "text": [
      "hello.word 64\n"
     ]
    }
   ],
   "source": [
    "print (\"hello.word\",8*8)"
   ]
  },
  {
   "cell_type": "code",
   "execution_count": 3,
   "id": "baa618f9",
   "metadata": {},
   "outputs": [
    {
     "name": "stdout",
     "output_type": "stream",
     "text": [
      "Enrico\n"
     ]
    }
   ],
   "source": [
    "nome=\"Enrico\"\n",
    "print(nome)"
   ]
  },
  {
   "cell_type": "code",
   "execution_count": null,
   "id": "a49ac4ae",
   "metadata": {},
   "outputs": [],
   "source": [
    "nome=input(\"inserisci il tuo nome:\")\n",
    "print(\"ciao\", nome)"
   ]
  },
  {
   "cell_type": "code",
   "execution_count": null,
   "id": "e8853d74",
   "metadata": {},
   "outputs": [],
   "source": [
    "nome=input(\"inserisci il tuo nome:\")\n",
    "for contatore in range (10):\n",
    "    print(\"ciao\", nome)"
   ]
  },
  {
   "cell_type": "code",
   "execution_count": null,
   "id": "3c988f68",
   "metadata": {},
   "outputs": [],
   "source": [
    "numero1= int (input(\"inserisci il primo numero:\"))\n",
    "numero2= int (input(\"inserisci il secondo numero:\"))\n",
    "somma= numero1 + numero2\n",
    "print (\"la somma è\", somma)"
   ]
  },
  {
   "cell_type": "code",
   "execution_count": null,
   "id": "5de43d6d",
   "metadata": {},
   "outputs": [],
   "source": [
    "sottrazione = numero1 - numero2\n",
    "print(\"la sottrazione è:\", sottrazione)"
   ]
  },
  {
   "cell_type": "code",
   "execution_count": null,
   "id": "33b4c446",
   "metadata": {},
   "outputs": [],
   "source": [
    "numero1= int (input(\"inserisci il primo numero:\"))\n",
    "numero2= int (input(\"inserisci il secondo numero:\"))\n",
    "moltiplicazione = numero1 * numero2\n",
    "print (\"la moltiplicazione è\", moltiplicazione)"
   ]
  },
  {
   "cell_type": "markdown",
   "id": "36f43b6c",
   "metadata": {},
   "source": [
    "## è uguale per le altre operazioni:\n",
    "## moltiplicazione e divisione"
   ]
  },
  {
   "cell_type": "code",
   "execution_count": null,
   "id": "19752a48",
   "metadata": {},
   "outputs": [],
   "source": [
    "prodotto=numero1 * numero2\n",
    "print(\"il prodotto è\", prodotto)"
   ]
  },
  {
   "cell_type": "code",
   "execution_count": null,
   "id": "0496bebe",
   "metadata": {},
   "outputs": [],
   "source": [
    "for numero in range (11):\n",
    "    print(numero)"
   ]
  },
  {
   "cell_type": "code",
   "execution_count": null,
   "id": "3061a5f7",
   "metadata": {},
   "outputs": [],
   "source": [
    "for numero in range (1,11):\n",
    "  print(numero)"
   ]
  },
  {
   "cell_type": "code",
   "execution_count": null,
   "id": "7419d92e",
   "metadata": {},
   "outputs": [],
   "source": [
    "# calcolatrice pyton con decisioni\n",
    "operazione= input (\"inserisci l'operazione:\")\n",
    "numero1=float(input(\"inserisci il primo numero:\"))\n",
    "numero2=float(input(\"inserisci il secondo numero:\"))\n",
    "if operazione == \"+\":\n",
    "    risultato=numero1 + numero2\n",
    "elif operazione == \"-\":\n",
    "    risultato=numero1 - numero2\n",
    "elif operazione == \"*\":\n",
    "    risultato=numero1 * numero2\n",
    "elif operazione == \"/\":\n",
    "    risultato=numero1 / numero2\n",
    "    risulato = \"operazione non è valida\"\n",
    "print(\"il riultato è\",risultato)\n",
    "\n",
    "\n",
    "\n",
    "\n"
   ]
  },
  {
   "cell_type": "code",
   "execution_count": null,
   "id": "2a3a87ea",
   "metadata": {},
   "outputs": [],
   "source": [
    "operazione = input(\"inserisci l'operazione:\")\n",
    "\n",
    "numero1=int(input(\"inserisci il primo numero:\"))\n",
    "numero2=int(input(\"inserisci il secondo numero:\"))\n",
    "if operazione == \"+\":\n",
    "    risultato = numero1 + numero2\n",
    "elif operazione == \"-\":\n",
    "    risultato = numero1 - numero2\n",
    "elif operazione == \"*\":\n",
    "    risultato = numero1 * numero2\n",
    "elif operazione == \"/\":\n",
    "     risultato = numero1 / numero2 \n",
    "     risulato = \"operazione non è valida\"\n",
    "print(\"il riultato è\",risultato)"
   ]
  },
  {
   "cell_type": "code",
   "execution_count": null,
   "id": "834181c1",
   "metadata": {},
   "outputs": [],
   "source": [
    "n = int(input(\"inserisci un numero intero positivo:\"))\n",
    "\n",
    "for numero in range (n):\n",
    "    print(numero)"
   ]
  },
  {
   "cell_type": "code",
   "execution_count": null,
   "id": "1d37eeb7",
   "metadata": {},
   "outputs": [],
   "source": [
    "n= int(input(\"inserisci un numero intero positiva:\"))\n",
    "somma=0\n",
    "\n",
    "for numero in range(1, n+1):\n",
    "    somma += numero\n",
    "print(\"la somma dei primi\",n,\"numeri interi è:\",somma)"
   ]
  },
  {
   "cell_type": "code",
   "execution_count": null,
   "id": "e23c2cf3",
   "metadata": {},
   "outputs": [],
   "source": [
    "n= int(input(\"inserisci un numero intero positiva:\"))\n",
    "\n",
    "print(\"quadrati dei primi\",n,\"numeri:\")\n",
    " \n",
    "for numero in range(n,n + 1):\n",
    "    quadrato = numero**2\n",
    "print(\"il quadrato di\",numero,\"è\",quadrato)"
   ]
  },
  {
   "cell_type": "code",
   "execution_count": null,
   "id": "6ca3521f",
   "metadata": {},
   "outputs": [],
   "source": [
    "n= int(input(\"inserisci un numero intero positiva:\"))\n",
    "\n",
    "print(\"quadrati dei primi\",n,\"numeri:\")\n",
    " \n",
    "for numero in range(n + 1):\n",
    "    quadrato = numero**100\n",
    "print(\"quadrati dei primi\",n,\"è\",quadrato)"
   ]
  },
  {
   "cell_type": "code",
   "execution_count": null,
   "id": "fa7e249c",
   "metadata": {},
   "outputs": [],
   "source": []
  },
  {
   "cell_type": "code",
   "execution_count": null,
   "id": "10cee338",
   "metadata": {},
   "outputs": [],
   "source": [
    "numero=int(input(\"inserisci un numero intero positivo:\"))\n",
    "if numero %2==0:\n",
    " print(numero,\"è un numero pari\")\n",
    "else:\n",
    "    print(numero,\"è un numero dispari\")"
   ]
  },
  {
   "cell_type": "code",
   "execution_count": null,
   "id": "c0466f0b",
   "metadata": {},
   "outputs": [],
   "source": [
    "n=int(input(\"inserisci un numero positivo:\"))\n",
    "fattoriale=1\n",
    "\n",
    "for numero in range(1, n + 1):\n",
    "    #fattoriale= fattoriale*numero\n",
    "    fattoriale *= numero\n",
    "print(\"il fattoriale di\",n,\"è\",fattoriale)"
   ]
  },
  {
   "cell_type": "code",
   "execution_count": null,
   "id": "8a6c6bd8",
   "metadata": {},
   "outputs": [],
   "source": [
    "numeri=[]\n",
    "\n",
    "n=int(input(\"quanti numeri vuoi inserire?\"))\n",
    "\n",
    "for i in range(n):\n",
    "    numero = float(input(\"inserisci un numero:\"))\n",
    "    numeri.append(numero)\n",
    "\n",
    "media = sum(numeri)/ len(numeri)\n",
    "print(\"la media dei numeri inseriti è:\",media,numeri)"
   ]
  },
  {
   "cell_type": "code",
   "execution_count": null,
   "id": "5d1143ec",
   "metadata": {},
   "outputs": [],
   "source": [
    "import random\n",
    "\n",
    "numero_da_indovinare = random.randint(1,100)\n",
    "tentativi=0\n",
    "\n",
    "while True :\n",
    "    tentativo =int(input(\"indovina il numero(1,100):\"))\n",
    "    tentativi +=1\n",
    "    if tentativi == numero_da_indovinare:\n",
    "        print(\"bravo! hai indovinato il numero\")\n"
   ]
  },
  {
   "cell_type": "code",
   "execution_count": null,
   "id": "35e18778",
   "metadata": {},
   "outputs": [],
   "source": [
    "import random\n",
    "\n",
    "numero_da_indovinare = random.randint(1,100)\n",
    "tentativi = 0\n",
    "\n",
    "while True:\n",
    "    tentativi = int(input(\"indovina il numero(1,100):\"))\n",
    "    tentativi += 1\n",
    "    \n",
    "    if tentativi == numero_da_indovinare:\n",
    "       print(\"Bravo,hai indovinato il numero\", numero_da_indovinare,\"in\",tentativi,\"tentativi,\")\n",
    "       break\n",
    "    elif tentativi < numero_da_indovinare:\n",
    "        print(\"il numero è più grande.\")\n",
    "    else: \n",
    "        print(\"il numero è più piccolo.\")"
   ]
  },
  {
   "cell_type": "code",
   "execution_count": null,
   "id": "40631e2c",
   "metadata": {},
   "outputs": [],
   "source": [
    "import random\n",
    "\n",
    "mosse = [\"carta\",\"forbice\",\"sasso\"]\n",
    "computer_mossa = random.choice(mosse)\n",
    "\n",
    "print(\"benvenuto nel gioco della morra cinese\")\n",
    "scelta_giocatore = input(\"scegli la tua mossa:(carta, forbice,sasso):\")\n",
    "\n",
    "if scelta_giocatore not in mosse:\n",
    "    print(\"mossa non permessa\")\n",
    "else:\n",
    "    print(\"il computer ha scelto:\", computer_mossa)\n",
    "    if scelta_giocatore == computer_mossa:\n",
    "          print(\"pareggio!\")\n",
    "    elif (scelta_giocatore == \"carta\" and computer_mossa==\"sasso\") or\\\n",
    "         (scelta_giocatore == \"forbice\" and computer_mossa==\"carta\") or\\\n",
    "         (scelta_giocatore == \"sasso\" and computer_mossa==\"forbice\"): \n",
    "          print(\"hai vinto!\")\n",
    "        \n",
    "    else:\n",
    "        print(\"hai perso!\")\n",
    "        \n"
   ]
  },
  {
   "cell_type": "code",
   "execution_count": null,
   "id": "3d381b9b",
   "metadata": {},
   "outputs": [],
   "source": [
    "#chiedere all'utentedi inserire un numerointero positivo P\n",
    "N = int(input(\"inserisci un numero intero positivo N:\"))\n",
    "\n",
    "#inizializzare la somma a zero\n",
    "somma = 0\n",
    "\n",
    "#calcolare la somma dei primi N numeri pari\n",
    "for numero in range(2,2*N+1,2):\n",
    "    somma += numero\n",
    "#stampare la somma\n",
    "print(f\"la somma dei primi {N} numeri pari è {somma}\")"
   ]
  },
  {
   "cell_type": "code",
   "execution_count": null,
   "id": "dcad55f7",
   "metadata": {},
   "outputs": [],
   "source": [
    "n=int(input(\"inserisci un numero intero:\"))\n",
    "\n",
    "fattoriale=1\n",
    "\n",
    "if n<0:\n",
    "    print(\"numero negativo\")\n",
    "elif n==0:\n",
    "    print(\"il fattoriale di zero è 1 per definizione\")\n",
    "else:\n",
    "    for numero in range(1,n+1):\n",
    "        fattoriale*=numero\n",
    "print(f\"il fattoriale di {n} è {fattoriale}\")"
   ]
  },
  {
   "cell_type": "code",
   "execution_count": null,
   "id": "66cddfb8",
   "metadata": {},
   "outputs": [],
   "source": [
    "#chiedere all'utente di inserire un numero intero positivo N\n",
    "N=int(input(\"inserisci un numero intero positivo N:\"))\n",
    "\n",
    "#inizializzare la somma a zero\n",
    "somma=0\n",
    "\n",
    "#calcolare la somma dei primi N numeri pari\n",
    "for numero in range (2,2*N+1,2):\n",
    "     somma+= numero\n",
    "print(f\"la somma dei primi {N} numeri pari è{somma}\")"
   ]
  },
  {
   "cell_type": "code",
   "execution_count": null,
   "id": "edde29c9",
   "metadata": {},
   "outputs": [],
   "source": [
    "#chiedere all'utente di inserire un numero intero positivo N\n",
    "N=int(input(\"inserisci un numero intero positivo N:\"))\n",
    "lista=[]\n",
    "\n",
    "#calcolare la somma dei primi N numeri pari\n",
    "for numero in range (2,2*N+1,2):\n",
    "    lista.append(numero)\n",
    "\n",
    "print(lista)"
   ]
  },
  {
   "cell_type": "code",
   "execution_count": null,
   "id": "2f8add3c",
   "metadata": {},
   "outputs": [],
   "source": [
    "#chiediall'utente di inserisci una frase a una parola\n",
    "frase = input(\"inserisci una frase o una parola:\").lower()\n",
    "\n",
    "#inizializza il contatore delle vocali\n",
    "\n",
    "conteggio_vocali=0\n",
    "\n",
    "#definisci la vocale da cercare\n",
    "vocali=\"aeiou\"\n",
    "\n",
    "#scansione ogni carrattere nella frase\n",
    "for carattere in frase :\n",
    "    #verifica se il carattere è una vocale\n",
    "    if carattere in vocali:\n",
    "        conteggio_vocali+=1\n",
    "        \n",
    "#stampa il conteggio delle vocali\n",
    "print(f\"Nella frase inserita ci sono {conteggio_vocali} vocali.\")"
   ]
  },
  {
   "cell_type": "code",
   "execution_count": null,
   "id": "b49c386e",
   "metadata": {},
   "outputs": [],
   "source": [
    "import random\n",
    "\n",
    "#genera un numerocasuale da 1 a 6(simulando il lancio di un dado)\n",
    "numero_dado = random.randint(1,6)\n",
    "\n",
    "#chiedi all'utente di indovinare il numero\n",
    "indovina = int(input(\"indovina il numero del dado(da 1 a 6):\"))\n",
    "\n",
    "#verifica se l'utente ha indovinato il correttamente\n",
    "if indovina <1 or indovina>6:\n",
    "    print(\"nemero non amesso\")\n",
    "elif indovina == numero_dado:\n",
    "    print(f\"complimenti il numero del dado era {numero_dado}. hai indovinato!\")\n",
    "else:\n",
    "    print (f\"Mi dispiace, il numero del dado era {numero_dado}.Meglio fortuna alla prossima!\")\n",
    "    "
   ]
  },
  {
   "cell_type": "code",
   "execution_count": null,
   "id": "bace7f70",
   "metadata": {},
   "outputs": [],
   "source": [
    "# inizializza la popolazione e gli anni \n",
    "popolazione = int(input(\"inserisci popolazione iniziale:\"))\n",
    "anni = int(input(\"inserisci numero di anni da simulare:\"))\n",
    "# tasso di natalità e tasso di mortalità (percentuale annuale)\n",
    "tasso_natalita = float (input(\"inserisci tasso natalità :\"))\n",
    "tasso_mortalità = float (input(\"inserisci tasso di mortalità:\")) \n",
    "# simulazione della crescita della popolazione\n",
    "for anno in range (anni):\n",
    "    nascite =(popolazione * tasso_natalita)/ 100\n",
    "    morti =(popolazione * tasso_mortalità)/ 100\n",
    "    popolazione+= (nascite-morti)\n",
    "    \n",
    "    print(f\"anno {anno+1}: popolazione= {int(popolazione)}\")\n",
    "print(\"simulazione completata.\")"
   ]
  },
  {
   "cell_type": "code",
   "execution_count": null,
   "id": "57d4c680",
   "metadata": {},
   "outputs": [],
   "source": [
    "import datetime\n",
    "\n",
    "today = datetime.datetime.today()\n",
    "print (f\"oggi è il giorno :{today:%d %m %Y} ore: {today: %H %M %S } \" )"
   ]
  },
  {
   "cell_type": "code",
   "execution_count": null,
   "id": "4fdb4b2e",
   "metadata": {},
   "outputs": [],
   "source": [
    "\n",
    "\n",
    "    "
   ]
  },
  {
   "cell_type": "code",
   "execution_count": null,
   "id": "ee265121",
   "metadata": {},
   "outputs": [],
   "source": [
    "def metri_a_piedi(metri):\n",
    "    return metri * 3.28084\n",
    "def piedi_a_metri(piedi):\n",
    "    return piedi / 3.28084\n",
    "def chilogrammi_a_libbre(libbre):\n",
    "    return libbre / 2.20462\n",
    "\n",
    "def selezione(scelta):\n",
    "    if scelta == \"metri\":\n",
    "        valore = float(input(\"inserici il valore in metri: \"))\n",
    "        risultato = metri_a_piedi(valore)\n",
    "        print(f\"{valore: .3f} metri acorrispondono a {risultato: .3f} metri.\")\n",
    "    elif scelta == \"piedi\":\n",
    "        valore = float(input(\"inserici il valore in piedi: \"))\n",
    "        risultato = piedi_a_metri(valore)\n",
    "        print(f\"{valore: .3f} metri acorrispondono a {risultato: .3f} piedi.\")\n",
    "    elif scelta == \"chilogrammi\":\n",
    "        valore = float(input(\"inserici il valore in chilogrammi: \"))\n",
    "        risultato = piedi_a_metri(valore)\n",
    "        print(f\"{valore: .3f} metri acorrispondono a {risultato: .3f} piedi.\")\n",
    "        "
   ]
  },
  {
   "cell_type": "code",
   "execution_count": null,
   "id": "8deb7259",
   "metadata": {},
   "outputs": [],
   "source": [
    "n = int(input(\"inserisci un numero n per calcolare l'n-esimo numero di fibonacci: \"))\n",
    "a=0\n",
    "b=1\n",
    "c=1\n",
    "if n<= 0:\n",
    "    print(\"il numero deve essere maggiore di zero.\")\n",
    "elif n == 1:\n",
    "    risultato = a \n",
    "else: \n",
    "    for iterazione in range(n-3):\n",
    "        a = b\n",
    "        b = c\n",
    "        c = a + b\n",
    "    risultato = c\n",
    "print(\"L' n-esimo numero di fibonacci è:\", risultato)"
   ]
  },
  {
   "cell_type": "code",
   "execution_count": null,
   "id": "3ed13789",
   "metadata": {},
   "outputs": [],
   "source": [
    "def fibonacci(n):\n",
    "    fib_series=[0,1]\n",
    "\n",
    "    while len(fib_series) < n:\n",
    "        fib_series.append(fib_series[-1] + fib_series[-2])\n",
    "    return fib_series"
   ]
  },
  {
   "cell_type": "code",
   "execution_count": 1,
   "id": "030b2edc",
   "metadata": {},
   "outputs": [
    {
     "name": "stdout",
     "output_type": "stream",
     "text": [
      "Benvenuto nella calcolatrice di Aree!\n",
      "vuoi calcolare l'area del cerchio(c), rattangolo(r) o triangolo(t)?t\n",
      "inserisci la base del triangolo:3\n",
      "inserisci l'altezza del triangolo:4\n",
      "L'area del triangolo è 6.00\n"
     ]
    }
   ],
   "source": [
    "import math\n",
    "\n",
    "def calcolare_area_cerchio(raggio):\n",
    "    return math.pi * (raggio ** 2)\n",
    "def calcolare_area_rettangolo(base, altezza):\n",
    "    return base * altezza\n",
    "def calcolare_area_triangolo(base,altezza):\n",
    "    return (base * altezza)/2\n",
    "\n",
    "print(\"Benvenuto nella calcolatrice di Aree!\")\n",
    "\n",
    "scelta= input(\"vuoi calcolare l'area del cerchio(c), rattangolo(r) o triangolo(t)?\").lower()\n",
    "\n",
    "\n",
    "if scelta=='c':\n",
    "    raggio = float(input(\"inserisci il raggio del cerchio:\"))\n",
    "    area = calcolare_area_cerchio(raggio)\n",
    "    print(f\"L'area del cerchio è {area:.2f}\")\n",
    "elif scelta == 'r':\n",
    "    base=float(input(\"inserisci la base del rettangolo:\"))\n",
    "    altezza = float(input(\"inserisci l'altezza del rattangolo:\"))\n",
    "    area= calcolare_area_rettangolo(base,altezza)\n",
    "    print(f\"L'area del rettangolo è {area:.2f}\")\n",
    "elif scelta == 't':\n",
    "    base=float(input(\"inserisci la base del triangolo:\"))\n",
    "    altezza = float(input(\"inserisci l'altezza del triangolo:\"))\n",
    "    area= calcolare_area_triangolo(base,altezza)\n",
    "    print(f\"L'area del triangolo è {area:.2f}\")\n",
    "else:\n",
    "    print(\"scelta non valida. Si prega di inserisci 'c','r'o 't'.\")\n",
    "                \n",
    "    "
   ]
  },
  {
   "cell_type": "code",
   "execution_count": 15,
   "id": "ff5ff21b",
   "metadata": {},
   "outputs": [
    {
     "name": "stdout",
     "output_type": "stream",
     "text": [
      "Benvenuto nella calcolatri bmi!\n",
      "Inserisci i tuo peso in chilogrammi: 50\n",
      "Inserisci la tua altezza in metri: 180\n",
      "il tuo BMI è 0.00, sei classificato come 'Sottopeso.'\n"
     ]
    }
   ],
   "source": [
    "#main\n",
    "# funzoone per il calcolo del BMI\n",
    "def calcola_bmi(peso, altezza):\n",
    "    return peso / (altezza ** 2)\n",
    "\n",
    "#funzione per la valtazione del BMI\n",
    "def valuta_bmi(bmi):\n",
    "    if bmi < 10.5:\n",
    "        return \"Sottopeso\"\n",
    "    elif 10.5 <= bmi < 24.9:\n",
    "        return \"Normopeso\"\n",
    "    elif 25 <= bmi < 29.9:\n",
    "        return \"Sovrappeso\"\n",
    "    else: \n",
    "        return \"Obeso\"\n",
    "    \n",
    "# Funzione principale\n",
    "def main():\n",
    "    print(\"Benvenuto nella calcolatri bmi!\")\n",
    "    peso = float(input(\"Inserisci i tuo peso in chilogrammi: \"))\n",
    "    altezza = float(input(\"Inserisci la tua altezza in metri: \"))\n",
    "    \n",
    "    bmi = calcola_bmi(peso, altezza)\n",
    "    valutazione = valuta_bmi(bmi)\n",
    "    \n",
    "    print(f\"il tuo BMI è {bmi:.2f}, sei classificato come '{valutazione}.'\")\n",
    "    \n",
    "if __name__ == \"__main__\":\n",
    "    main()"
   ]
  },
  {
   "cell_type": "code",
   "execution_count": null,
   "id": "7ff2942a",
   "metadata": {},
   "outputs": [],
   "source": [
    "def calcola_interessi(importo_iniziale, tasso_interesse, periodi_investimento):\n",
    "    importo_finale = importo_iniziale * (1 + tasso_interesse / 100) ** periodi_investimento\n",
    "    return importo_finale"
   ]
  },
  {
   "cell_type": "code",
   "execution_count": null,
   "id": "5ce8d677",
   "metadata": {},
   "outputs": [],
   "source": [
    "print(\"benvenuto nel Colcolatore di Interessi!\")\n",
    "\n",
    "importo = float(input(\"inserisci l'importo iniziale:\"))\n",
    "tasso = float(input(\"inserisci il tasso di interesse annuale(%):\"))\n",
    "periodo = int(input(\"inserisci il periodo di investimanto (anni):\"))\n",
    "\n",
    "importo_finale= calcola_interessi (importo,tasso,periodo)\n",
    "\n",
    "print(f\"importo finale dopo {periodo} anni è di { importo_finale:.2f} euro.\")"
   ]
  },
  {
   "cell_type": "code",
   "execution_count": null,
   "id": "892f74d3",
   "metadata": {},
   "outputs": [],
   "source": [
    "calcola_interessi(10000000,4,10)"
   ]
  },
  {
   "cell_type": "code",
   "execution_count": null,
   "id": "5ab66da7",
   "metadata": {},
   "outputs": [],
   "source": [
    "def forza_gravitazionale(m1,m2,r):\n",
    "    #costante gravitazionale\n",
    "    G= 6.67430e-11 #N(m/kg)^2\n",
    "    \n",
    "    #calcolo della forza gravitazionale\n",
    "    F= (G*m1*m2) / (r ** 2)\n",
    "    return F\n"
   ]
  },
  {
   "cell_type": "code",
   "execution_count": null,
   "id": "663ad291",
   "metadata": {},
   "outputs": [],
   "source": [
    "#esempio di utilizzo \n",
    "massa_terra = 5.972e24 #kg\n",
    "massa_luna =7.342e22 #kg\n",
    "distanza_terra_luna =384400000 # metri\n",
    "    \n",
    "forza = forza_gravitazionale(massa_terra,massa_luna, distanza_terra_luna)\n",
    "print(f\"forza gravitazionale tra la terra e la Luna :{forza} newton\")"
   ]
  },
  {
   "cell_type": "code",
   "execution_count": null,
   "id": "812a392c",
   "metadata": {},
   "outputs": [],
   "source": [
    "from itertools import permutations\n",
    "k=0\n",
    "\n",
    "def trova_anagrammi(parola):\n",
    "    anagrammi=[''.join(p)for p in permutations(parola)]\n",
    "#.join è simile a append\n",
    "    return anagrammi\n",
    "print(\"benvenuto nel risolutore di anagrammi\")\n",
    "parola_input= input(\"inserisci una parola :\").strip().lower()\n",
    "#.strip non mosta le parti in bianco\n",
    "#.lower mette tutte le lettere in minuscolo\n",
    "\n",
    "if len(parola_input) <2:\n",
    "    print(\"inserisci una parola con almeno 2 caratteri.\")\n",
    "else:\n",
    "    anagrammi = trova_anagrammi(parola_input)\n",
    "    \n",
    "    for elemento in anagrammi:\n",
    "        if elemento != parola_input:\n",
    "# != diverso\n",
    "            k += 1\n",
    "            print(elemento)\n",
    "        print(f\"Gli anagrammi di '{parola_input}' sono: '{k}'\")"
   ]
  },
  {
   "cell_type": "markdown",
   "id": "17daf2d6",
   "metadata": {},
   "source": [
    "## dizionario"
   ]
  },
  {
   "cell_type": "code",
   "execution_count": null,
   "id": "503d37f9",
   "metadata": {},
   "outputs": [],
   "source": [
    "# Definizione dei tassi di cambio\n",
    "\n",
    "tassi_di_cambio= {\n",
    "    \"dollari\": 1.0,\n",
    "    \"euro\": 0.85,\n",
    "    \"yen\": 110.41,\n",
    "    # aggiungi altre valute e tassi di cambio se necessario\n",
    "}\n",
    "\n",
    "# Chiedi all'utente d'inserire l'importo, la valuta di partenza e la valuta di destinazione\n",
    "importo = float(input(\"Inserisci l'importo da convertire: \"))\n",
    "valuta_di_partenza = input(\"Inserisci la valuta di partenza: \").lower()\n",
    "valuta_destinazione = input(\"Inserisci la valuta di destinazione: \").lower()\n",
    "\n",
    "#Verifica se le valute sono nel dizionari dei tassi di cambio\n",
    "if valuta_di_partenza in tassi_di_cambio and valuta_destinazione in tassi_di_cambio:\n",
    "    #Calcola il tasso di cambio e l'importo converitto\n",
    "    tasso_di_cambio = tassi_di_cambio[valuta_destinazione] / tassi_di_cambio[valuta_di_partenza]\n",
    "    importo_convertito = importo * tasso_di_cambio\n",
    "\n",
    "#stampa il risultato\n",
    "    print(f\"{importo} {valuta_di_partenza} sono equivalenti a {importo_convertito:.2f} {valuta_destinazione}\")\n",
    "else:\n",
    "    print(\"Valute non supportate. Assicurati di inserire valute valide.\")\n",
    "    "
   ]
  },
  {
   "cell_type": "code",
   "execution_count": null,
   "id": "85c565da",
   "metadata": {},
   "outputs": [],
   "source": [
    "frase=input(\"inserisci una frase:\")\n",
    "\n",
    "frase=frase.lower()\n",
    "\n",
    "alfabeto:\"abcdefghijklmnopqrstuvwxyz\"\n",
    "conteggio_lettere={}\n",
    "for lettera in alfabeto:\n",
    "    conteggio = frase. count(lettera)\n",
    "    if conteggio > 0:\n",
    "       conteggio_lettere[lettera] = conteggio\n",
    "for lettera , conteggio in conteggio_lettere.items():\n",
    "    print(f\"{lettera}:{conteggio}\")"
   ]
  },
  {
   "cell_type": "code",
   "execution_count": null,
   "id": "cea95172",
   "metadata": {},
   "outputs": [],
   "source": [
    "\n",
    "        "
   ]
  },
  {
   "cell_type": "code",
   "execution_count": null,
   "id": "1e70ce56",
   "metadata": {},
   "outputs": [],
   "source": [
    "conteggio_lettere.items()"
   ]
  },
  {
   "cell_type": "code",
   "execution_count": null,
   "id": "aeba02fe",
   "metadata": {},
   "outputs": [],
   "source": [
    "prodotti={}\n",
    "prodotti[\"panbauletto\"]=2\n",
    "prodotti[\"cocacola\"]=3\n"
   ]
  },
  {
   "cell_type": "code",
   "execution_count": null,
   "id": "d6278c8b",
   "metadata": {},
   "outputs": [],
   "source": [
    "prodotti"
   ]
  },
  {
   "cell_type": "code",
   "execution_count": null,
   "id": "64876d1c",
   "metadata": {},
   "outputs": [],
   "source": [
    "from datetime import datetime\n",
    "import pytz\n",
    "\n",
    "print(\"Benvetuo nell'orologio mondiale\")\n",
    "\n",
    "# Definisci le città e i relativi fusi orari\n",
    "citta_fusi_orari = {\n",
    "    \"New York\": \"America/New York\",\n",
    "    \"Londra\": \"Europe/London\",\n",
    "    \"Tokyo\": \"Asia/Tokyo\",\n",
    "    \"Sydney\": \"Australia/Sidney\",\n",
    "    \"Rio de Janeiro\": \"America/Sao_Paulo\",\n",
    "}\n",
    "\n",
    "while True:\n",
    "    print(\"\\nCittà disponibili:\")\n",
    "    for citta in citta_fusi_orari.keys():\n",
    "        print(citta)\n",
    "        \n",
    "        scelta_citta = input(\"Inserisci il nome della città per visualizzare l'ora (o 'esci' per uscire): \").strip()\n",
    "        if scelta_citta.lower() == 'esci':\n",
    "            \n",
    "            if scelta_citta in citta_fusi_orari.keys():\n",
    "                fuso_orario = pytz.timezone(citta_fusi_orari[scelta_citta])\n",
    "                ora_corrente = datetime.now(fuso_orario)\n",
    "                print(f\"L'ora corrente a {scelta_citta} è: {ora_corrente.strftime('%H:%M:%S')}\")\n",
    "            else:\n",
    "                print(\"citta non valid. Riprova\")"
   ]
  },
  {
   "cell_type": "markdown",
   "id": "ad623467",
   "metadata": {},
   "source": [
    "#### DIZIONARIO E MAIN"
   ]
  },
  {
   "cell_type": "code",
   "execution_count": null,
   "id": "63bb97fb",
   "metadata": {},
   "outputs": [],
   "source": [
    "# Funzione principale può avere qualsiasi nome\n",
    "def paolo():\n",
    "    print(\"Mi chiamo Paolo\")\n",
    "    \n",
    "if __name__ == \"__main__\" : #è una condizione logica che \"si verifica sempre\" e pertanto tutto ciò\n",
    "                           #che risulta indentato a questa ocondizione viene eseguita\n",
    "#     paolo()"
   ]
  },
  {
   "cell_type": "code",
   "execution_count": null,
   "id": "58f3aaeb",
   "metadata": {},
   "outputs": [],
   "source": []
  },
  {
   "cell_type": "code",
   "execution_count": 17,
   "id": "8e97cdd7",
   "metadata": {},
   "outputs": [
    {
     "name": "stdout",
     "output_type": "stream",
     "text": [
      "menù:\n",
      "\n",
      " 1. aggiungi cibo consmato\n",
      "\n",
      " 2. calcola calorie totali\n",
      "\n",
      " 3 esci\n",
      "scegli un opzione: 1\n",
      "\n",
      "\n",
      "pizza 285\n",
      "hamburger 250\n",
      "insalata 100\n",
      "pollo arrosto 335\n",
      "yogurt 150\n",
      "inserisci il cibo consumto: 5pizza\n",
      "Inserisci la quantita in grammi: 1000000000000000000000\n",
      "menù:\n",
      "\n",
      " 1. aggiungi cibo consmato\n",
      "\n",
      " 2. calcola calorie totali\n",
      "\n",
      " 3 esci\n",
      "scegli un opzione: 1\n",
      "\n",
      "\n",
      "pizza 285\n",
      "hamburger 250\n",
      "insalata 100\n",
      "pollo arrosto 335\n",
      "yogurt 150\n",
      "inserisci il cibo consumto: 100pollo arrosto\n",
      "Inserisci la quantita in grammi: 2000000000000\n",
      "menù:\n",
      "\n",
      " 1. aggiungi cibo consmato\n",
      "\n",
      " 2. calcola calorie totali\n",
      "\n",
      " 3 esci\n",
      "scegli un opzione: 1\n",
      "\n",
      "\n",
      "pizza 285\n",
      "hamburger 250\n",
      "insalata 100\n",
      "pollo arrosto 335\n",
      "yogurt 150\n",
      "inserisci il cibo consumto: 1000000yogurt\n",
      "Inserisci la quantita in grammi: 2\n",
      "menù:\n",
      "\n",
      " 1. aggiungi cibo consmato\n",
      "\n",
      " 2. calcola calorie totali\n",
      "\n",
      " 3 esci\n",
      "scegli un opzione: 2\n",
      "Cibo non presente\n"
     ]
    },
    {
     "ename": "TypeError",
     "evalue": "unsupported operand type(s) for +: 'int' and 'NoneType'",
     "output_type": "error",
     "traceback": [
      "\u001b[1;31m---------------------------------------------------------------------------\u001b[0m",
      "\u001b[1;31mTypeError\u001b[0m                                 Traceback (most recent call last)",
      "Cell \u001b[1;32mIn[17], line 49\u001b[0m\n\u001b[0;32m     47\u001b[0m             \u001b[38;5;28mprint\u001b[39m(\u001b[38;5;124m\"\u001b[39m\u001b[38;5;130;01m\\n\u001b[39;00m\u001b[38;5;124mscelta non valida. riprova\u001b[39m\u001b[38;5;124m\"\u001b[39m)\n\u001b[0;32m     48\u001b[0m \u001b[38;5;28;01mif\u001b[39;00m \u001b[38;5;18m__name__\u001b[39m \u001b[38;5;241m==\u001b[39m \u001b[38;5;124m\"\u001b[39m\u001b[38;5;124m__main__\u001b[39m\u001b[38;5;124m\"\u001b[39m:\n\u001b[1;32m---> 49\u001b[0m     main()\n",
      "Cell \u001b[1;32mIn[17], line 41\u001b[0m, in \u001b[0;36mmain\u001b[1;34m()\u001b[0m\n\u001b[0;32m     39\u001b[0m     cibo_consumato\u001b[38;5;241m.\u001b[39mappend((cibo,quantita))\n\u001b[0;32m     40\u001b[0m \u001b[38;5;28;01melif\u001b[39;00m scelta \u001b[38;5;241m==\u001b[39m \u001b[38;5;124m\"\u001b[39m\u001b[38;5;124m2\u001b[39m\u001b[38;5;124m\"\u001b[39m:\n\u001b[1;32m---> 41\u001b[0m     calorie_totali \u001b[38;5;241m=\u001b[39m \u001b[38;5;28msum\u001b[39m(calorie_consumate(c,q) \u001b[38;5;28;01mfor\u001b[39;00m c, q \u001b[38;5;129;01min\u001b[39;00m cibo_consumato)\n\u001b[0;32m     42\u001b[0m     \u001b[38;5;28mprint\u001b[39m(\u001b[38;5;124mf\u001b[39m\u001b[38;5;124m\"\u001b[39m\u001b[38;5;130;01m\\n\u001b[39;00m\u001b[38;5;124mcalore totali consumate: \u001b[39m\u001b[38;5;132;01m{\u001b[39;00mcalorie_totali\u001b[38;5;132;01m}\u001b[39;00m\u001b[38;5;124m calorie\u001b[39m\u001b[38;5;124m\"\u001b[39m)\n\u001b[0;32m     43\u001b[0m \u001b[38;5;28;01melif\u001b[39;00m scelta \u001b[38;5;241m==\u001b[39m \u001b[38;5;124m\"\u001b[39m\u001b[38;5;124m3\u001b[39m\u001b[38;5;124m\"\u001b[39m:\n",
      "\u001b[1;31mTypeError\u001b[0m: unsupported operand type(s) for +: 'int' and 'NoneType'"
     ]
    }
   ],
   "source": [
    "cibo_calorie = {\n",
    "    \"pizza\": 285,\n",
    "    \"hamburger\": 250,\n",
    "    \"insalata\": 100,\n",
    "    \"pollo arrosto\": 335,\n",
    "    \"yogurt\": 150\n",
    "}\n",
    "\n",
    "#Funzione per calcolare le calorie cosnumate\n",
    "def calorie_consumate(cibo, quantita):\n",
    "    if cibo not in cibo_calorie.keys():\n",
    "        print(\"Cibo non presente\")\n",
    "    elif cibo in cibo_calorie:\n",
    "        calorie_per_100g = cibo_calorie[cibo]\n",
    "        calorie_totali = (calorie_per_100g / 100) * quantita\n",
    "        return calorie_totali\n",
    "    else:\n",
    "        return 0\n",
    "    \n",
    "#Funzione principale\n",
    "def main():\n",
    "    cibo_consumato = []\n",
    "    \n",
    "    while True:\n",
    "        print(\"menù:\")\n",
    "        print(\"\\n 1. aggiungi cibo consmato\")\n",
    "        print(\"\\n 2. calcola calorie totali\")\n",
    "        print(\"\\n 3 esci\")\n",
    "        \n",
    "        scelta = input(\"scegli un opzione: \")\n",
    "        \n",
    "        if scelta == \"1\":\n",
    "            print(\"\\n\")\n",
    "            for key, value in cibo_calorie.items():\n",
    "                print(key,value)\n",
    "                \n",
    "            cibo = input(\"inserisci il cibo consumto: \").lower()\n",
    "            quantita = float(input(\"Inserisci la quantita in grammi: \"))\n",
    "            cibo_consumato.append((cibo,quantita))\n",
    "        elif scelta == \"2\":\n",
    "            calorie_totali = sum(calorie_consumate(c,q) for c, q in cibo_consumato)\n",
    "            print(f\"\\ncalore totali consumate: {calorie_totali} calorie\")\n",
    "        elif scelta == \"3\":\n",
    "            print(\"ok\")\n",
    "            \n",
    "            break\n",
    "        else:\n",
    "            print(\"\\nscelta non valida. riprova\")\n",
    "if __name__ == \"__main__\":\n",
    "    main()"
   ]
  },
  {
   "cell_type": "code",
   "execution_count": null,
   "id": "0289e4fe",
   "metadata": {},
   "outputs": [
    {
     "name": "stdout",
     "output_type": "stream",
     "text": [
      "menù:\n",
      "\n",
      " 1. aggiungi cibo consmato\n",
      "\n",
      " 2. calcola calorie totali\n",
      "\n",
      " 3 esci\n",
      "scegli un opzione: 1\n",
      "\n",
      "\n",
      "pizza 285\n",
      "hamburger 250\n",
      "insalata 100\n",
      "pollo arrosto 335\n",
      "yogurt 150\n"
     ]
    }
   ],
   "source": [
    "cibo_calorie = {\n",
    "    \"pizza\": 285,\n",
    "    \"hamburger\": 250,\n",
    "    \"insalata\": 100,\n",
    "    \"pollo arrosto\": 335,\n",
    "    \"yogurt\": 150\n",
    "}\n",
    "\n",
    "#Funzione per calcolare le calorie cosnumate\n",
    "def calorie_consumate(cibo, quantita):\n",
    "    if cibo not in cibo_calorie:\n",
    "        print(\"Cibo non presente\")\n",
    "    elif cibo in cibo_calorie:\n",
    "        calorie_per_100g = cibo_calorie[cibo]\n",
    "        calorie_totali = (calorie_per_100g / 100) * quantita\n",
    "        return calorie_totali\n",
    "    else:\n",
    "        return 0\n",
    "    \n",
    "#Funzione principale\n",
    "def main():\n",
    "    cibo_consumato = []\n",
    "    \n",
    "    while True:\n",
    "        print(\"menù:\")\n",
    "        print(\"\\n 1. aggiungi cibo consmato\")\n",
    "        print(\"\\n 2. calcola calorie totali\")\n",
    "        print(\"\\n 3 esci\")\n",
    "        \n",
    "        scelta = input(\"scegli un opzione: \")\n",
    "        \n",
    "        if scelta == \"1\":\n",
    "            print(\"\\n\")\n",
    "            for key, value in cibo_calorie.items():\n",
    "                print(key,value)\n",
    "                \n",
    "            cibo = input(\"inserisci il cibo consumto: \").lower()\n",
    "            quantita = float(input(\"Inserisci la quantita in grammi: \"))\n",
    "            cibo_consumato.append((cibo,quantita))\n",
    "        elif scelta == \"2\":\n",
    "            calorie_totali = sum(calorie_consumate(c,q) for c, q in cibo_consumato)\n",
    "            print(f\"\\ncalore totali consumate: {calorie_totali} calorie\")\n",
    "        elif scelta == \"3\":\n",
    "            print(\"ok\")\n",
    "            \n",
    "            break\n",
    "        else:\n",
    "            print(\"\\nscelta non valida. riprova\")\n",
    "if __name__ == \"__main__\":\n",
    "    main()"
   ]
  },
  {
   "cell_type": "code",
   "execution_count": 1,
   "id": "23c3b013",
   "metadata": {},
   "outputs": [
    {
     "name": "stdout",
     "output_type": "stream",
     "text": [
      "Personaggio Fntasy Generatore:\n",
      "Specie: orco\n",
      "Classe: Guerriero\n",
      "Arma:Daga\n",
      "Abilità: Furtività,Magia dell'acqua\n"
     ]
    }
   ],
   "source": [
    "import random\n",
    "# liste di speci, classi, armi, e abilitrà\n",
    "speci = [\"Elfo\", \"Umano\",\"nano\",\"orco\",\"gnomo\"]\n",
    "classi = [\"Guerriero\", \"Mago\",\"Ranger\",\"Ladro\",\"Chieriffo\"]\n",
    "armi = [\"Spada\",\"Arco\",\"Bacheta Magica\",\"Ascia\",\"Daga\"]\n",
    "abilita = [\"Furtività\",\"Magia dell'acqua\",\"Camuffamento\",\"Estarzione mineraria\",\"Incantesimo di guarigione\"]\n",
    "\n",
    "#genera un personaggio casuale\n",
    "\n",
    "specie = random.choice(speci)\n",
    "classe= random.choice(classi)\n",
    "arma= random.choice(armi)\n",
    "abilita_scelte= random.sample(abilita,random.randint(1, 3))\n",
    "\n",
    "#Stampa il personaggio generato\n",
    "\n",
    "print(f\"Personaggio Fntasy Generatore:\")\n",
    "print(f\"Specie: {specie}\")\n",
    "print(f\"Classe: {classe}\")\n",
    "print(f\"Arma:{arma}\")\n",
    "print(f\"Abilità: {','.join(abilita_scelte)}\")\n",
    "\n",
    "\n"
   ]
  },
  {
   "cell_type": "code",
   "execution_count": 2,
   "id": "1c2728ea",
   "metadata": {},
   "outputs": [
    {
     "name": "stdout",
     "output_type": "stream",
     "text": [
      "Personaggi Fantasy Generato:\n",
      "Specie:Umano\n",
      "Classe:Chieriffo\n",
      "Arma:Daga\n",
      "Abilità:Camuffamento,Furtività\n"
     ]
    }
   ],
   "source": [
    "import random\n",
    "# liste di speci, classi, armi, e abilitrà\n",
    "speci = [\"Elfo\", \"Umano\",\"nano\",\"orco\",\"gnomo\"]\n",
    "classi = [\"Guerriero\", \"Mago\",\"Ranger\",\"Ladro\",\"Chieriffo\"]\n",
    "armi = [\"Spada\",\"Arco\",\"Bacheta MAgica\",\"Ascia\",\"Daga\"]\n",
    "abilita = [\"Furtività\",\"Magia dell'acqua\",\"Camuffamento\",\"Estarzione mineraria\",\"Incantesimo di guarigione\"]\n",
    "\n",
    "#Funzione per creare un personaggio casuale\n",
    "def crea_personaggio():\n",
    "  return{\n",
    "        \"Specie\" : random.choice(speci),\n",
    "        \"Classe\": random.choice(classi),\n",
    "        \"Arma\": random.choice(armi),\n",
    "        \"Abilità\": random.sample(abilita,random.randint(1, 3))\n",
    "        }\n",
    "#Funzione principale\n",
    "def main():\n",
    "    personaggio_generato = crea_personaggio()\n",
    "    print(\"Personaggi Fantasy Generato:\")\n",
    "    for chiave , valore in personaggio_generato.items():\n",
    "        if chiave == \"Abilità\":\n",
    "            valore=','.join(valore)\n",
    "        print(f\"{chiave}:{valore}\")\n",
    "#Eseguire la funzione \"main\" quando il programma viene eseguito\n",
    "if __name__ == \"__main__\":\n",
    "    main()\n",
    "    "
   ]
  },
  {
   "cell_type": "code",
   "execution_count": 4,
   "id": "7e587527",
   "metadata": {},
   "outputs": [
    {
     "name": "stdout",
     "output_type": "stream",
     "text": [
      "Generatore di personaggi per romanzi\n",
      "Inserisci il nome del personaggio: Enrico\n",
      "Nome: Enrico\n",
      "Aspetto Fisico: capelli nero\n",
      "Aspetto Personale: ottimista\n",
      "Sfondo: nobile\n",
      "Motivazione: vendetta\n"
     ]
    }
   ],
   "source": [
    "import random\n",
    "\n",
    "physical_traits = [\"capelli nero\", \"capelli biondi\", \"occhi cazzurri\", \"occhi verdi\"]\n",
    "personality_traits = [\"gentile\", \"introverso\", \"estroverso\", \"ottimista\"]\n",
    "backgrounds = [\"contadino\", \"nobile\", \"artigiano\", \"commerciale\"]\n",
    "motivations = [\"vendetta\", \"ricchezza\", \"amore\", \"vita esterna\"]\n",
    "\n",
    "def genera_personaggio():\n",
    "    nome = input(\"Inserisci il nome del personaggio: \")\n",
    "    aspetto_fisico = random.choice(physical_traits)\n",
    "    aspetto_personale = random.choice(personality_traits)\n",
    "    sfondo = random.choice(backgrounds)\n",
    "    motivazione = random.choice(motivations)\n",
    "    \n",
    "    descrizione =f\"Nome: {nome}\\nAspetto Fisico: {aspetto_fisico}\\nAspetto Personale: {aspetto_personale}\\nSfondo: {sfondo}\\nMotivazione: {motivazione}\"\n",
    "    \n",
    "    return descrizione\n",
    "print(\"Generatore di personaggi per romanzi\")\n",
    "print(genera_personaggio())"
   ]
  },
  {
   "cell_type": "code",
   "execution_count": 5,
   "id": "443205d8",
   "metadata": {},
   "outputs": [
    {
     "name": "stdout",
     "output_type": "stream",
     "text": [
      "il dolce sogno sorride\n",
      "il sereno mare canta\n",
      "nel cielo sorride con  luminoso mare\n"
     ]
    }
   ],
   "source": [
    "import random\n",
    "aggettivi  = [\"dolce\",\"sereno\",\"profondo\",\"luminoso\",\"gentile\"]\n",
    "sostantivi = [\"amore\",\"mare\",\"cielo\",\"vento\",\"sogno\"]\n",
    "verbi      = [\"danza\",\"splende\",\"abbracia\",\"canta\",\"sorride\"]\n",
    "\n",
    "#genera una poesia casuale \n",
    "def genera_poesia():\n",
    "    verso1 = f\"il {random.choice(aggettivi)} {random.choice(sostantivi)} {random.choice(verbi)}\"\n",
    "    verso2 = f\"il {random.choice(aggettivi)} {random.choice(sostantivi)} {random.choice(verbi)}\"\n",
    "    verso3 = f\"nel {random.choice(sostantivi)} {random.choice(verbi)} con  {random.choice(aggettivi)} {random.choice(sostantivi)}\";\n",
    "    return f\"{verso1}\\n{verso2}\\n{verso3}\"\n",
    "print(genera_poesia())\n",
    "    \n"
   ]
  },
  {
   "cell_type": "code",
   "execution_count": 9,
   "id": "e765fd17",
   "metadata": {},
   "outputs": [
    {
     "name": "stdout",
     "output_type": "stream",
     "text": [
      "Benvevuto nel generatore di citazioni\n",
      "Premi invio per ottenere una citazione causale...enrico\n",
      "citazione del giorno: non servi a nulla\n"
     ]
    }
   ],
   "source": [
    "#database di citazioni\n",
    "citazioni = [\n",
    "    \"Fai schifo\",\n",
    "    \"non servi a nulla\",\n",
    "    \"va a piangere\",\n",
    "    \"Raffa non si lava\",\n",
    "]\n",
    "\n",
    "#Funzione per generare una citazione casuale\n",
    "def genera_citazione():\n",
    "    return random.choice(citazioni)\n",
    "\n",
    "#funzione principale\n",
    "def main():\n",
    "    print(\"Benvevuto nel generatore di citazioni\")\n",
    "    input(\"Premi invio per ottenere una citazione causale...\")\n",
    "    \n",
    "    citazione = genera_citazione()\n",
    "    print(f\"citazione del giorno: {citazione}\")\n",
    "    \n",
    "if __name__ == \"__main__\":\n",
    "    main()"
   ]
  }
 ],
 "metadata": {
  "kernelspec": {
   "display_name": "Python 3 (ipykernel)",
   "language": "python",
   "name": "python3"
  },
  "language_info": {
   "codemirror_mode": {
    "name": "ipython",
    "version": 3
   },
   "file_extension": ".py",
   "mimetype": "text/x-python",
   "name": "python",
   "nbconvert_exporter": "python",
   "pygments_lexer": "ipython3",
   "version": "3.11.4"
  }
 },
 "nbformat": 4,
 "nbformat_minor": 5
}
